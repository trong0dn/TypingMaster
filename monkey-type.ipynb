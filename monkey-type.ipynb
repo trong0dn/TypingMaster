{
 "cells": [
  {
   "attachments": {},
   "cell_type": "markdown",
   "metadata": {},
   "source": [
    "## Import Selenium WebDrivers & ChromeDriverManager"
   ]
  },
  {
   "cell_type": "code",
   "execution_count": 2,
   "metadata": {},
   "outputs": [],
   "source": [
    "import time\n",
    "from selenium import webdriver\n",
    "from selenium.webdriver.common.by import By\n",
    "from selenium.webdriver import ActionChains\n",
    "from selenium.common.exceptions import NoSuchElementException, StaleElementReferenceException\n",
    "from webdriver_manager.chrome import ChromeDriverManager"
   ]
  },
  {
   "attachments": {},
   "cell_type": "markdown",
   "metadata": {},
   "source": [
    "## Setup browser webdriver"
   ]
  },
  {
   "cell_type": "code",
   "execution_count": 3,
   "metadata": {},
   "outputs": [
    {
     "name": "stderr",
     "output_type": "stream",
     "text": [
      "C:\\Users\\trong\\AppData\\Local\\Temp\\ipykernel_13904\\4020931308.py:2: DeprecationWarning: executable_path has been deprecated, please pass in a Service object\n",
      "  browser = webdriver.Chrome(ChromeDriverManager().install()) # use this to install chromium\n"
     ]
    }
   ],
   "source": [
    "# browser = webdriver.Chrome() # use this line if chromedriver.exe is in PATH\n",
    "browser = webdriver.Chrome(ChromeDriverManager().install()) # use this to install chromium"
   ]
  },
  {
   "attachments": {},
   "cell_type": "markdown",
   "metadata": {},
   "source": [
    "### Method 1: One letter at a time"
   ]
  },
  {
   "cell_type": "code",
   "execution_count": 4,
   "metadata": {},
   "outputs": [],
   "source": [
    "def one_letter_at_a_time(delay: float):\n",
    "    # sends letter by letter\n",
    "    words = browser.find_element(By.ID, \"words\").find_elements(By.CLASS_NAME, \"word\")\n",
    "    try:\n",
    "        while len(words) != 0:\n",
    "            active_index = [i for i in range(len(words)) if 'active' in words[i].get_attribute('class')][0]\n",
    "            words = words[active_index:]\n",
    "            all_letters = \"\"\n",
    "            for word in words:\n",
    "                letters = word.find_elements(By.TAG_NAME, \"letter\")\n",
    "                for letter in letters:\n",
    "                    all_letters += letter.text\n",
    "                all_letters += \" \"\n",
    "            for letter in all_letters:\n",
    "                ActionChains(browser).send_keys(letter).perform()\n",
    "                time.sleep(delay)\n",
    "            words = browser.find_element(By.ID, \"words\").find_elements(By.CLASS_NAME, \"word\")\n",
    "    except Exception as e:\n",
    "        print(e)\n",
    "    print(\"Game Over\")"
   ]
  },
  {
   "attachments": {},
   "cell_type": "markdown",
   "metadata": {},
   "source": [
    "### Method 2: All letters at a time"
   ]
  },
  {
   "cell_type": "code",
   "execution_count": 5,
   "metadata": {
    "tags": []
   },
   "outputs": [],
   "source": [
    "def all_letters_at_a_time(delay: float):\n",
    "    # sends all letters at once\n",
    "    words = browser.find_element(By.ID, \"words\").find_elements(By.CLASS_NAME, \"word\")\n",
    "    try:\n",
    "        while len(words) != 0:\n",
    "            active_index = [i for i in range(len(words)) if 'active' in words[i].get_attribute('class')][0]\n",
    "            words = words[active_index:]\n",
    "            all_letters = \"\"\n",
    "            for word in words:\n",
    "                letters = word.find_elements(By.TAG_NAME, \"letter\")\n",
    "                for letter in letters:\n",
    "                    all_letters += letter.text\n",
    "                all_letters += \" \"\n",
    "            ActionChains(browser).send_keys(all_letters).perform()\n",
    "            time.sleep(delay)\n",
    "            words = browser.find_element(By.ID, \"words\").find_elements(By.CLASS_NAME, \"word\")\n",
    "    except Exception as e:\n",
    "        print(e)\n",
    "    print(\"Game Over\")"
   ]
  },
  {
   "attachments": {},
   "cell_type": "markdown",
   "metadata": {},
   "source": [
    "### Method 3: One word at a time"
   ]
  },
  {
   "cell_type": "code",
   "execution_count": 6,
   "metadata": {
    "tags": []
   },
   "outputs": [],
   "source": [
    "def one_word_at_a_time(delay: float):\n",
    "    # detects one active word at a time and input (fastest way)\n",
    "    try:\n",
    "        while len(browser.find_elements(By.CLASS_NAME, \"word\")) != 0:\n",
    "            ActionChains(browser).send_keys([letter.text for letter in browser.find_element(By.CSS_SELECTOR, \".word.active\").find_elements(By.TAG_NAME, \"letter\")] + [' ']).perform()\n",
    "            time.sleep(delay)\n",
    "    except Exception as e:\n",
    "        print(e)\n",
    "    print(\"Game Over\")"
   ]
  },
  {
   "attachments": {},
   "cell_type": "markdown",
   "metadata": {},
   "source": [
    "### Method 4: One active word-letter at a time "
   ]
  },
  {
   "cell_type": "code",
   "execution_count": 7,
   "metadata": {},
   "outputs": [],
   "source": [
    "def one_word_letter_at_a_time(delay: float):\n",
    "    # detects one active word at a time and input its letter one by one to mimic the most natural way of typing\n",
    "    try:\n",
    "        while len(browser.find_elements(By.CLASS_NAME, \"word\")) != 0:\n",
    "            active_word = browser.find_element(By.CSS_SELECTOR, \".word.active\")\n",
    "            letters = [letter.text for letter in active_word.find_elements(By.TAG_NAME, \"letter\")] + [' ']\n",
    "            for letter in letters:\n",
    "                ActionChains(browser).send_keys(letter).perform()\n",
    "                time.sleep(delay)\n",
    "    except Exception as e:\n",
    "        print(e)\n",
    "    print(\"Game Over\")"
   ]
  },
  {
   "attachments": {},
   "cell_type": "markdown",
   "metadata": {},
   "source": [
    "## Start the Application"
   ]
  },
  {
   "cell_type": "code",
   "execution_count": 12,
   "metadata": {},
   "outputs": [],
   "source": [
    "url = 'https://monkeytype.com/'\n",
    "browser.get(url)\n",
    "\n",
    "# manually click in browser to get ready (accept cookies, choose 15/30/60 seconds, etc.)"
   ]
  },
  {
   "attachments": {},
   "cell_type": "markdown",
   "metadata": {},
   "source": [
    "## Set `delay` value and method execution"
   ]
  },
  {
   "cell_type": "code",
   "execution_count": 13,
   "metadata": {},
   "outputs": [
    {
     "name": "stdout",
     "output_type": "stream",
     "text": [
      "Game Over\n"
     ]
    }
   ],
   "source": [
    "delay = 0.01\n",
    "\n",
    "# uncomment one of the following lines to test different methods\n",
    "# one_letter_at_a_time(delay)\n",
    "# all_letters_at_a_time(delay)\n",
    "# one_word_at_a_time(delay)\n",
    "one_word_letter_at_a_time(delay)"
   ]
  },
  {
   "attachments": {},
   "cell_type": "markdown",
   "metadata": {},
   "source": [
    "## Return stats"
   ]
  },
  {
   "cell_type": "code",
   "execution_count": null,
   "metadata": {
    "tags": []
   },
   "outputs": [],
   "source": [
    "wpm = browser.find_element(By.CSS_SELECTOR, \".group.wpm\").find_element(By.CLASS_NAME, \"bottom\").text\n",
    "acc = browser.find_element(By.CSS_SELECTOR, \".group.acc\").find_element(By.CLASS_NAME, \"bottom\").text\n",
    "consistency = browser.find_element(By.CSS_SELECTOR, \".group.flat.consistency\").find_element(By.CLASS_NAME, \"bottom\").text\n",
    "print(\"wpm: \" + wpm)\n",
    "print(\"accuracy: \" + acc)\n",
    "print(\"consistency: \" + consistency)"
   ]
  },
  {
   "attachments": {},
   "cell_type": "markdown",
   "metadata": {},
   "source": [
    "## Close the browser"
   ]
  },
  {
   "cell_type": "code",
   "execution_count": null,
   "metadata": {},
   "outputs": [],
   "source": [
    "browser.close()"
   ]
  }
 ],
 "metadata": {
  "kernelspec": {
   "display_name": "Python 3",
   "language": "python",
   "name": "python3"
  },
  "language_info": {
   "codemirror_mode": {
    "name": "ipython",
    "version": 3
   },
   "file_extension": ".py",
   "mimetype": "text/x-python",
   "name": "python",
   "nbconvert_exporter": "python",
   "pygments_lexer": "ipython3",
   "version": "3.9.13"
  },
  "orig_nbformat": 2,
  "vscode": {
   "interpreter": {
    "hash": "972b993e3136fdd167328f7ea80e4dacf9fca2294461d2a8b18eb9254d000a61"
   }
  }
 },
 "nbformat": 4,
 "nbformat_minor": 2
}
